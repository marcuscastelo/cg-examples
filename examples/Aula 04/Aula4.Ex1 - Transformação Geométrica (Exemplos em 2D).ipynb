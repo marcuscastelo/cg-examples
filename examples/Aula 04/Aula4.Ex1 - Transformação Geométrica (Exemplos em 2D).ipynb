{
 "cells": [
  {
   "cell_type": "markdown",
   "metadata": {},
   "source": [
    "# Aula4.Ex1 - Introdução Transformação Geométrica (Exemplo 2D)\n",
    "\n",
    "Na Aula 4, estudamos os conceitos de transformação geométrica, especialmente as matrizes de transformação geométrica: translação, escala e rotação.\n",
    "\n",
    "Neste exemplo prático, exercitaremos todos os conceitos da Aula 4 considerando um espaço de coordenadas 2D e uma matriz pixels.\n",
    "\n",
    "Nossos exemplos envolvem apenas desenhos simples gerados por meio de retas.\n",
    "\n",
    "Para desenhar um segmento de reta, vamos usar o algoritmo de Bresenham, que será estudado no tópico de rasterização."
   ]
  },
  {
   "cell_type": "markdown",
   "metadata": {},
   "source": [
    "### Importanto bibliotecas\n",
    "\n",
    "Utilizaremos uma biblioteca (Pillow) para geração de imagens  e manipulação de matrizes de pixel das imagens. Isso nos permitirá visualizar em tempo real as transformações geométricas realizadas.\n",
    "\n",
    "Caso não tenha a biblioteca Pillow instalada:\n",
    "`pip install Pillow`"
   ]
  },
  {
   "cell_type": "code",
   "execution_count": 2,
   "metadata": {},
   "outputs": [],
   "source": [
    "from PIL import Image\n",
    "from IPython.display import display\n",
    "import math"
   ]
  },
  {
   "cell_type": "markdown",
   "metadata": {},
   "source": [
    "### Criando e exibindo uma imagem vazia (pixeis $R=0$, $G=0$, $B=0$)"
   ]
  },
  {
   "cell_type": "code",
   "execution_count": 3,
   "metadata": {},
   "outputs": [
    {
     "data": {
      "image/png": "[encoded data removed]",
      "text/plain": [
       "<PIL.Image.Image image mode=RGB size=500x300 at 0x7F3DD8618160>"
      ]
     },
     "metadata": {},
     "output_type": "display_data"
    }
   ],
   "source": [
    "largura = 500\n",
    "altura = 300\n",
    "\n",
    "imagem = Image.new('RGB', (largura, altura))\n",
    "\n",
    "display(imagem)"
   ]
  },
  {
   "cell_type": "markdown",
   "metadata": {},
   "source": [
    "### Algoritmo de Bresenham\n",
    "\n",
    "Nessa função, nosso algoritmo de Bresenham possui quatro parâmetros:\n",
    "* v1 = coordenadas do ponto 1 (em formato matricial)\n",
    "* v2 = coordenadas do ponto 2 (em formato matricial)\n",
    "* imagem = objeto de imagem\n",
    "* cor (opcional) = cor da linha pode ser branca ou vermelha\n",
    "\n",
    "A saída do algorito é um segmento de reta entre v1 e v2."
   ]
  },
  {
   "cell_type": "code",
   "execution_count": 4,
   "metadata": {},
   "outputs": [],
   "source": [
    "def bresenham_line(v1, v2, imagem, cor='white'):\n",
    "    \n",
    "    # vertices recebidas no formato matricial\n",
    "    x1 = v1[0][0]\n",
    "    y1 = v1[1][0]\n",
    "    \n",
    "    x2 = v2[0][0]\n",
    "    y2 = v2[1][0]\n",
    "    \n",
    "    cor_linha = (255,255,255) #white\n",
    "    if cor == 'red':\n",
    "        cor_linha = (255,0,0)\n",
    "\n",
    "    matriz_pixels = imagem.load()\n",
    "    \n",
    "    # calculando diferenca em cada eixo\n",
    "    dx = x2 - x1\n",
    "    dy = y2 - y1\n",
    " \n",
    "    # verificar se a linha é íngreme (steep)\n",
    "    steep = False\n",
    "    if abs(dy) > abs(dx): steep = True\n",
    "\n",
    " \n",
    "    # se for íngreme, rotacionar a linha\n",
    "    if steep:\n",
    "        x1_temp = x1\n",
    "        x1 = y1\n",
    "        y1 = x1_temp\n",
    "        \n",
    "        x2_temp = x2\n",
    "        x2 = y2\n",
    "        y2 = x2_temp\n",
    "\n",
    " \n",
    "    # Verificar se é necessario trocar as coordenadas\n",
    "    # util para plotar da esquerda para direita\n",
    "    swapped = False\n",
    "    if x1 > x2:\n",
    "        x1_temp = x1\n",
    "        x1 = x2\n",
    "        x2 = x1_temp\n",
    "        \n",
    "        y1_temp = y1\n",
    "        y1 = y2\n",
    "        y2 = y1_temp\n",
    "        \n",
    "        swapped = True\n",
    " \n",
    "    # recalcular as diferencas no eixo\n",
    "    dx = x2 - x1\n",
    "    dy = y2 - y1\n",
    " \n",
    "    # inicializando erro\n",
    "    error = int(dx / 2.0)\n",
    "    \n",
    "    # inicilizando o incremento em y\n",
    "    y_inc = -1\n",
    "    if y1 < y2: y_inc = 1\n",
    " \n",
    "    # inicializando y \n",
    "    y = y1\n",
    "    \n",
    "    # lista de coordenadas\n",
    "    coordenadas = []\n",
    "    \n",
    "    # gerando coordenadas da linha\n",
    "    for x in range(x1, x2 + 1): # incrementando x \n",
    "        coord = (x, y)\n",
    "        if steep: # caso seja íngreme\n",
    "            coord = (y, x)\n",
    "\n",
    "        # adiciona a coordenada\n",
    "        coordenadas.append(coord)\n",
    "        \n",
    "        # atualiza o erro\n",
    "        error -= abs(dy)\n",
    "        \n",
    "        # incrementa y se erro for negativo\n",
    "        if error < 0:\n",
    "            y += y_inc\n",
    "            error += dx\n",
    " \n",
    "    # se as coordenadas foram trocadas, inverter a lista de coordenadas\n",
    "    if swapped:\n",
    "        coordenadas.reverse()\n",
    "        \n",
    "    for coord in coordenadas:\n",
    "        x = coord[0]\n",
    "        y = coord[1]\n",
    "        if x < imagem.size[0] and y < imagem.size[1] and x >= 0 and y >= 0:\n",
    "            matriz_pixels[x,y] = cor_linha\n",
    "        "
   ]
  },
  {
   "cell_type": "markdown",
   "metadata": {},
   "source": [
    "###### Desenhando um segmento de reta\n",
    "\n",
    "Considere os vértices v1=(50,60) e v2=(200,300).\n",
    "\n",
    "A chamada a seguir desenha um segmento partindo do vértice v1 e até o vértice v2."
   ]
  },
  {
   "cell_type": "code",
   "execution_count": 5,
   "metadata": {},
   "outputs": [
    {
     "data": {
      "image/png": "[encoded data removed]",
      "text/plain": [
       "<PIL.Image.Image image mode=RGB size=500x300 at 0x7F3DD857CEE0>"
      ]
     },
     "metadata": {},
     "output_type": "display_data"
    }
   ],
   "source": [
    "imagem = Image.new('RGB', (largura, altura))\n",
    "\n",
    "v1 = [ \n",
    "        [50],\n",
    "        [60]\n",
    "     ]\n",
    "v2 = [ \n",
    "        [400],\n",
    "        [600]\n",
    "     ]\n",
    "\n",
    "bresenham_line(v1, v2, imagem)\n",
    "\n",
    "display(imagem)"
   ]
  },
  {
   "cell_type": "markdown",
   "metadata": {},
   "source": [
    "### Desenhando um Triângulo\n",
    "\n",
    "Nosso triângulo possui os seguintes vértices:\n",
    "\n",
    "* v1=(150,50)\n",
    "* v2=(250,50)\n",
    "* v3=(150,150)\n",
    "\n",
    "Vamos desenhá-lo a seguir.\n",
    "\n",
    "Atenção: nesse caso, o ponto (0,0) é está no ponto esquerdo superior da imagem."
   ]
  },
  {
   "cell_type": "code",
   "execution_count": 6,
   "metadata": {},
   "outputs": [
    {
     "data": {
      "image/png": "[encoded data removed]",
      "text/plain": [
       "<PIL.Image.Image image mode=RGB size=500x300 at 0x7F3DD846A5E0>"
      ]
     },
     "metadata": {},
     "output_type": "display_data"
    }
   ],
   "source": [
    "imagem = Image.new('RGB', (largura, altura))\n",
    "\n",
    "v1 = [ [150], [50] ]\n",
    "v2 = [ [250], [50] ]\n",
    "v3 = [ [150], [150] ]\n",
    "\n",
    "# de v1 para v2\n",
    "\n",
    "bresenham_line(v1, v2, imagem)\n",
    "\n",
    "# de v1 para v3\n",
    "bresenham_line(v1, v3, imagem)\n",
    "\n",
    "# de v3 para v2\n",
    "bresenham_line(v3, v2, imagem)\n",
    "\n",
    "display(imagem)"
   ]
  },
  {
   "cell_type": "markdown",
   "metadata": {},
   "source": [
    "### Multiplicação de matrizes\n",
    "\n",
    "Vimos na Aula 4 que transformação geométrica em coordenadas homogêneas tem a grande vantagem de ser realizada por meio de simples multiplicação de matrizes.\n",
    "\n",
    "Abaixo, implementaremos uma função para multiplicar duas matrizes que será usada durante as nossas transformações geométricas."
   ]
  },
  {
   "cell_type": "code",
   "execution_count": 7,
   "metadata": {},
   "outputs": [],
   "source": [
    "def multiplica_matrizes(M1, M2):\n",
    "    \n",
    "    # recuperando dimensoes de M1\n",
    "    m1_linhas = len(M1)\n",
    "    m1_colunas = len(M1[0])\n",
    "    \n",
    "    # recuperando dimensoes de M2\n",
    "    m2_linhas = len(M2)\n",
    "    m2_colunas = len(M2[0])\n",
    "    \n",
    "    \n",
    "    \n",
    "    if m1_colunas != m2_linhas:\n",
    "        print(m1_linhas,m1_colunas,m2_linhas,m2_colunas)\n",
    "        print('Nao posso multiplicar. Dimensoes incorretas.')\n",
    "        return -1\n",
    "\n",
    "    # criando espaco para a M3\n",
    "    M3 = [[0 for row in range(m2_colunas)] for col in range(m1_linhas)]\n",
    "    \n",
    "    for i in range(m1_linhas):\n",
    "        for j in range(m2_colunas):\n",
    "            for k in range(m1_colunas):\n",
    "                M3[i][j] += M1[i][k] * M2[k][j]\n",
    "                \n",
    "    for i in range(m1_linhas):\n",
    "        for j in range(m2_colunas):\n",
    "            M3[i][j] = int(M3[i][j])\n",
    "                \n",
    "    return M3"
   ]
  },
  {
   "cell_type": "markdown",
   "metadata": {},
   "source": [
    "### Transformação Geométrica: Translação\n",
    "\n",
    "Agora que já sabemos desenhar nosso triângulo a partir de um conjunto de vértices, podemos experimentar as matrizes de transformação geométricas.\n",
    "\n",
    "Vimos na Aula 4 que todo vértice, na prática, será modelado por meio de quatro dimensões: $x$, $y$, $z$ e $w$.\n",
    "\n",
    "Nesses exemplos, estudaremos apenas o caso 2D. Por isso, vamos manter constantes os valores $z=0$ e $w=1$, e modificarmos apenas $x$ e $y$.\n",
    "\n",
    "Abaixo está definida a operação de translação. Observe a matriz de translação no código e verifique o conteúdo do slides da Aula 4."
   ]
  },
  {
   "cell_type": "code",
   "execution_count": 8,
   "metadata": {},
   "outputs": [],
   "source": [
    "def translacao(vertice, t_x, t_y):\n",
    "    \n",
    "    # define a matriz de translacao\n",
    "    matriz_translacao = [\n",
    "                            [1, 0, t_x],\n",
    "                            [0, 1, t_y],\n",
    "                            [0, 0, 1  ]\n",
    "                        ]\n",
    "    \n",
    "    # inicializa novo vertice\n",
    "    vertice_t = multiplica_matrizes(matriz_translacao, vertice)\n",
    "    \n",
    "    # retorna novo vertice\n",
    "    return vertice_t"
   ]
  },
  {
   "cell_type": "code",
   "execution_count": 9,
   "metadata": {},
   "outputs": [
    {
     "data": {
      "text/plain": [
       "[[30], [70], [1]]"
      ]
     },
     "execution_count": 9,
     "metadata": {},
     "output_type": "execute_result"
    }
   ],
   "source": [
    "v1 = [ [10], [20], [1] ]\n",
    "\n",
    "translacao(v1, +20, +50)"
   ]
  },
  {
   "cell_type": "markdown",
   "metadata": {},
   "source": [
    "### Exemplo de Translação\n",
    "\n",
    "Considerando o exemplo de triângulo anterior, vamos testar a translação. Basicamente, vamos fazer nosso triângulo transladar $+50$ no eixo $x$ e $+80$ no eixo $y$.\n",
    "\n",
    "Desenharemos o triângulo original em branco e o triângulo transladado em vermelho."
   ]
  },
  {
   "cell_type": "code",
   "execution_count": 10,
   "metadata": {},
   "outputs": [
    {
     "data": {
      "image/png": "[encoded data removed]",
      "text/plain": [
       "<PIL.Image.Image image mode=RGB size=500x300 at 0x7F3DD83D79D0>"
      ]
     },
     "metadata": {},
     "output_type": "display_data"
    }
   ],
   "source": [
    "imagem = Image.new('RGB', (largura, altura))\n",
    "\n",
    "# vertices do triângulo (lembre-se que mantemos h=1), no formato matricial\n",
    "v1=[[150],[50],[1]]\n",
    "v2=[[250],[50],[1]]\n",
    "v3=[[150],[150],[1]]\n",
    "\n",
    "# vamos desenhar o triangulo original na cor branca\n",
    "bresenham_line(v1, v2, imagem)\n",
    "bresenham_line(v1, v3, imagem)\n",
    "bresenham_line(v2, v3, imagem)\n",
    "\n",
    "# agora, vamos calcular os vertices transladados com +50 em x e +80 em y (e zero em z)\n",
    "v1_t = translacao(v1, +150, +80)\n",
    "v2_t = translacao(v2, +150, +80)\n",
    "v3_t = translacao(v3, +150, +80)\n",
    "\n",
    "# vamos desenhar o triangulo transladado na cor vermelha\n",
    "bresenham_line(v1_t, v2_t, imagem, cor='red')\n",
    "bresenham_line(v1_t, v3_t, imagem, cor='red')\n",
    "bresenham_line(v2_t, v3_t, imagem, cor='red')\n",
    "\n",
    "display(imagem)"
   ]
  },
  {
   "cell_type": "markdown",
   "metadata": {},
   "source": [
    "### Transformação Geométrica: Escala\n",
    "\n",
    "Abaixo está o programa que usa uma matriz de transformação para alterar a escala, com base nos vértices de entrada.\n",
    "\n",
    "Veja o conteúdo da Aula 4 para mais detalhes sobre a origem desta matriz."
   ]
  },
  {
   "cell_type": "code",
   "execution_count": 11,
   "metadata": {},
   "outputs": [],
   "source": [
    "def escala(vertice, e_x, e_y ):\n",
    "    \n",
    "    # define a matriz de translacao\n",
    "    matriz_escala = [\n",
    "                            [e_x, 0  , 0  ],\n",
    "                            [0  , e_y, 0  ],\n",
    "                            [0  , 0  , 1  ]\n",
    "                        ]\n",
    "    \n",
    "    # inicializa novo vertice\n",
    "    vertice_e = multiplica_matrizes(matriz_escala, vertice)\n",
    "    \n",
    "    # retorna novo vertice\n",
    "    return vertice_e"
   ]
  },
  {
   "cell_type": "code",
   "execution_count": 12,
   "metadata": {},
   "outputs": [
    {
     "data": {
      "text/plain": [
       "[[20], [40], [1]]"
      ]
     },
     "execution_count": 12,
     "metadata": {},
     "output_type": "execute_result"
    }
   ],
   "source": [
    "v1 = [ [10], [20], [1] ]\n",
    "\n",
    "escala(v1, +2, +2)"
   ]
  },
  {
   "cell_type": "markdown",
   "metadata": {},
   "source": [
    "### Exemplo de transformação geométrica para escala\n",
    "\n",
    "Vamos usar nosso triângulo de exemplo e aumentá-lo 50% o seu tamanho. Isso significa, que o fator de escala será de 1.5. Para reduzir em 25% do seu tamanho, use o fator de escala 0.75. Para não alterar a escala, o fator é 1.0."
   ]
  },
  {
   "cell_type": "code",
   "execution_count": 13,
   "metadata": {},
   "outputs": [
    {
     "data": {
      "image/png": "[encoded data removed]",
      "text/plain": [
       "<PIL.Image.Image image mode=RGB size=500x300 at 0x7F3DD85D6C70>"
      ]
     },
     "metadata": {},
     "output_type": "display_data"
    }
   ],
   "source": [
    "imagem = Image.new('RGB', (largura, altura))\n",
    "\n",
    "# vertices do triângulo (lembre-se que mantemos h=1), no formato matricial\n",
    "v1=[[150],[50],[1]]\n",
    "v2=[[250],[50],[1]]\n",
    "v3=[[150],[150],[1]]\n",
    "\n",
    "# vamos desenhar o triangulo original na cor branca\n",
    "bresenham_line(v1, v2, imagem)\n",
    "bresenham_line(v1, v3, imagem)\n",
    "bresenham_line(v2, v3, imagem)\n",
    "\n",
    "# agora, vamos calcular os vertices reescalados em 50%\n",
    "v1_e = escala(v1, 0.5, 0.5)\n",
    "v2_e = escala(v2, 0.5, 0.5)\n",
    "v3_e = escala(v3, 0.5, 0.5)\n",
    "\n",
    "# vamos desenhar o triangulo escalado na cor vermelha\n",
    "bresenham_line(v1_e, v2_e, imagem, cor='red')\n",
    "bresenham_line(v1_e, v3_e, imagem, cor='red')\n",
    "bresenham_line(v2_e, v3_e, imagem, cor='red')\n",
    "\n",
    "display(imagem)"
   ]
  },
  {
   "cell_type": "markdown",
   "metadata": {},
   "source": [
    "### Analisando a transformação geométrica de escala...\n",
    "\n",
    "O resultado anterior deixa claro que aumentamos a escala do nosso objeto.\n",
    "\n",
    "No entanto, observe que também foi realizado uma translação.\n",
    "\n",
    "Para controlar esse efeito, é necessário definir a escala a partir de um ponto de referência. Em geral, esse ponto de referência pode ser qualquer ponto. No entanto, é comum que seja algum ponto do objeto, por exemplo, um dos vértices.\n",
    "\n",
    "Escolhido o ponto de referência, fazemos o seguinte:\n",
    "\n",
    "1. Translação do objeto, com base no ponto de referência, para a origem (0,0) do sistema de coordenadas.\n",
    "\n",
    "2. Aplicar a transformação de escala no objeto.\n",
    "\n",
    "3. Translação do objeto da origem (0,0) para sua posição original, conforme o ponto de referência adotado.\n",
    "\n",
    "Faremos essa operação escolhendo v1=(150,50) como ponto de referência."
   ]
  },
  {
   "cell_type": "code",
   "execution_count": 14,
   "metadata": {},
   "outputs": [
    {
     "data": {
      "image/png": "[encoded data removed]",
      "text/plain": [
       "<PIL.Image.Image image mode=RGB size=500x300 at 0x7F3DD857CC40>"
      ]
     },
     "metadata": {},
     "output_type": "display_data"
    }
   ],
   "source": [
    "imagem = Image.new('RGB', (largura, altura))\n",
    "\n",
    "# vertices do triângulo (lembre-se que mantemos h=1), no formato matricial\n",
    "v1=[[150],[50],[1]]\n",
    "v2=[[250],[50],[1]]\n",
    "v3=[[150],[150],[1]]\n",
    "\n",
    "# vamos desenhar o triangulo original na cor branca\n",
    "bresenham_line(v1, v2, imagem)\n",
    "bresenham_line(v1, v3, imagem)\n",
    "bresenham_line(v2, v3, imagem)\n",
    "\n",
    "# vamos transladar para a origem, usando v1 de referencia\n",
    "v1_t = translacao(v1, -150, -50)\n",
    "v2_t = translacao(v2, -150, -50)\n",
    "v3_t = translacao(v3, -150, -50)\n",
    "\n",
    "# vamos calcular os vertices reescalados em 50%\n",
    "v1_e = escala(v1_t, 1.5, 1.5)\n",
    "v2_e = escala(v2_t, 1.5, 1.5)\n",
    "v3_e = escala(v3_t, 1.5, 1.5)\n",
    "\n",
    "# vamos transladar de volta par posicao original\n",
    "v1_t = translacao(v1_e, +150, +50)\n",
    "v2_t = translacao(v2_e, +150, +50)\n",
    "v3_t = translacao(v3_e, +150, +50)\n",
    "\n",
    "# vamos desenhar o triangulo escalado na cor vermelha\n",
    "bresenham_line(v1_t, v2_t, imagem, cor='red')\n",
    "bresenham_line(v1_t, v3_t, imagem, cor='red')\n",
    "bresenham_line(v2_t, v3_t, imagem, cor='red')\n",
    "\n",
    "display(imagem)"
   ]
  },
  {
   "cell_type": "markdown",
   "metadata": {},
   "source": [
    "Observe que a escala foi aplicada a partir do vértice de referência v1=(150,50)"
   ]
  },
  {
   "cell_type": "markdown",
   "metadata": {},
   "source": [
    "### Transformação Geométrica: Rotação\n",
    "\n",
    "Abaixo está o programa que usa uma matriz de transformação para rotacionar, com base nos vértices de entrada.\n",
    "\n",
    "Veja o conteúdo da Aula 4 para mais detalhes sobre a origem desta matriz."
   ]
  },
  {
   "cell_type": "code",
   "execution_count": 15,
   "metadata": {},
   "outputs": [],
   "source": [
    "def rotacao(vertice, angulo):\n",
    "\n",
    "    rad = math.radians(angulo) \n",
    "    c = math.cos(rad)\n",
    "    s = math.sin(rad)\n",
    "    \n",
    "    # define a matriz de rotacao \n",
    "    matriz_rotacao = [\n",
    "                        [c  , -s , 0],\n",
    "                        [s  , c  , 0],\n",
    "                        [0  , 0  , 1]\n",
    "                     ]\n",
    "    \n",
    "\n",
    "    \n",
    "    # inicializa novo vertice\n",
    "    vertice_r = multiplica_matrizes(matriz_rotacao, vertice)\n",
    "    \n",
    "    return vertice_r"
   ]
  },
  {
   "cell_type": "markdown",
   "metadata": {},
   "source": [
    "### Exemplo de transformação geométrica de rotação\n",
    "\n",
    "Vamos usar nosso triângulo de exemplo e rotacioná-lo em 45 graus."
   ]
  },
  {
   "cell_type": "code",
   "execution_count": 16,
   "metadata": {},
   "outputs": [
    {
     "data": {
      "image/png": "[encoded data removed]",
      "text/plain": [
       "<PIL.Image.Image image mode=RGB size=500x300 at 0x7F3DD8397EB0>"
      ]
     },
     "metadata": {},
     "output_type": "display_data"
    }
   ],
   "source": [
    "imagem = Image.new('RGB', (largura, altura))\n",
    "\n",
    "# vertices do triângulo (lembre-se que mantemos h=1), no formato matricial\n",
    "v1=[[150],[50],[1]]\n",
    "v2=[[250],[50],[1]]\n",
    "v3=[[150],[150],[1]]\n",
    "\n",
    "# vamos desenhar o triangulo original na cor branca\n",
    "bresenham_line(v1, v2, imagem)\n",
    "bresenham_line(v1, v3, imagem)\n",
    "bresenham_line(v2, v3, imagem)\n",
    "\n",
    "# agora, vamos rotacionar em 45 graus\n",
    "v1_r = rotacao(v1, 70)\n",
    "v2_r = rotacao(v2, 70)\n",
    "v3_r = rotacao(v3, 70)\n",
    "\n",
    "# vamos desenhar o triangulo rotacionado na cor vermelha\n",
    "bresenham_line(v1_r, v2_r, imagem, cor='red')\n",
    "bresenham_line(v1_r, v3_r, imagem, cor='red')\n",
    "bresenham_line(v2_r, v3_r, imagem, cor='red')\n",
    "\n",
    "display(imagem)"
   ]
  },
  {
   "cell_type": "markdown",
   "metadata": {},
   "source": [
    "### Analisando a transformação geométrica de rotação...\n",
    "\n",
    "De fato o objeto foi rotacionado. No entanto, assim como ocorreu com a transformação de escala, observe que também foi realizado uma translação.\n",
    "\n",
    "Para controlar esse efeito, é necessário definir a rotação a partir de um ponto de referência. Em geral, esse ponto de referência pode ser qualquer ponto. No entanto, é comum que seja algum ponto do objeto, por exemplo, um dos vértices.\n",
    "\n",
    "Escolhido o ponto de referência, nós então fazemos o seguinte:\n",
    "\n",
    "1. Translação do objeto, com base no ponto de referência, para a origem (0,0) do sistema de coordenadas.\n",
    "\n",
    "2. Aplicar a transformação de rotação no objeto.\n",
    "\n",
    "3. Translação do objeto da origem (0,0) para sua posição original, conforme o ponto de referência adotado.\n",
    "\n",
    "Vamos fazer essa operação escolhendo v1=(150,50) como ponto de referência."
   ]
  },
  {
   "cell_type": "code",
   "execution_count": 17,
   "metadata": {},
   "outputs": [
    {
     "data": {
      "image/png": "[encoded data removed]",
      "text/plain": [
       "<PIL.Image.Image image mode=RGB size=500x300 at 0x7F3DD8523640>"
      ]
     },
     "metadata": {},
     "output_type": "display_data"
    }
   ],
   "source": [
    "imagem = Image.new('RGB', (largura, altura))\n",
    "\n",
    "# vertices do triângulo (lembre-se que mantemos h=1), no formato matricial\n",
    "v1=[[150],[50],[1]]\n",
    "v2=[[250],[50],[1]]\n",
    "v3=[[150],[150],[1]]\n",
    "\n",
    "# vamos desenhar o triangulo original na cor branca\n",
    "bresenham_line(v1, v2, imagem)\n",
    "bresenham_line(v1, v3, imagem)\n",
    "bresenham_line(v2, v3, imagem)\n",
    "\n",
    "# vamos transladar para a origem, usando v1 de referencia\n",
    "v1_t = translacao(v1, -150, -50)\n",
    "v2_t = translacao(v2, -150, -50)\n",
    "v3_t = translacao(v3, -150, -50)\n",
    "\n",
    "# agora, vamos rotacionar em 45 graus\n",
    "v1_r = rotacao(v1_t, 45)\n",
    "v2_r = rotacao(v2_t, 45)\n",
    "v3_r = rotacao(v3_t, 45)\n",
    "\n",
    "# vamos transladar de volta par posicao original\n",
    "v1_t = translacao(v1_r, +150, +50)\n",
    "v2_t = translacao(v2_r, +150, +50)\n",
    "v3_t = translacao(v3_r, +150, +50)\n",
    "\n",
    "# vamos desenhar o triangulo escalado na cor vermelha\n",
    "bresenham_line(v1_t, v2_t, imagem, cor='red')\n",
    "bresenham_line(v1_t, v3_t, imagem, cor='red')\n",
    "bresenham_line(v2_t, v3_t, imagem, cor='red')\n",
    "\n",
    "display(imagem)"
   ]
  },
  {
   "cell_type": "markdown",
   "metadata": {},
   "source": [
    "Observe acima que o objeto foi rotacionado em relação ao vértice de referência v1=(150,50)"
   ]
  },
  {
   "cell_type": "markdown",
   "metadata": {},
   "source": [
    "# Exercício\n",
    "\n",
    "Em nenhum momento neste exercício nós fizemos uso de transformações compostas, ou seja, computar uma matriz final de transformação a partir da multiplicação de outras matrizes de transformação. Na prática, fizemos o seguinte:\n",
    "\n",
    "1. V_t = Matriz_Translacao*V (translação de vértices para a origem)\n",
    "2. V_r = Matriz_Rotacao*V_t (rotação de vértices)\n",
    "3. V_f = Matriz_Translação*V_r (translação de vértices para a posição orignal)\n",
    "\n",
    "Modifique o código para calcular uma matriz de transformação composta. Em seguida, use apenas esta matriz para transformação do objeto\n",
    "\n",
    "1. M_final = Matriz_Translacao * Matriz_Rotacao * Matriz_Translação\n",
    "2. V_f = M_final * V\n"
   ]
  }
 ],
 "metadata": {
  "kernelspec": {
   "display_name": "Python 3 (ipykernel)",
   "language": "python",
   "name": "python3"
  },
  "language_info": {
   "codemirror_mode": {
    "name": "ipython",
    "version": 3
   },
   "file_extension": ".py",
   "mimetype": "text/x-python",
   "name": "python",
   "nbconvert_exporter": "python",
   "pygments_lexer": "ipython3",
   "version": "3.9.6"
  }
 },
 "nbformat": 4,
 "nbformat_minor": 2
}
